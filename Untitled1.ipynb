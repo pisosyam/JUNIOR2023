{
 "cells": [
  {
   "cell_type": "code",
   "execution_count": 1,
   "id": "7fcc2602",
   "metadata": {
    "pycharm": {
     "is_executing": true
    }
   },
   "outputs": [],
   "source": [
    "import pandas as pd\n",
    "import matplotlib.pyplot as plt\n",
    "import numpy as np\n",
    "import seaborn as sns"
   ]
  },
  {
   "cell_type": "code",
   "execution_count": 2,
   "id": "c65050cf",
   "metadata": {},
   "outputs": [
    {
     "data": {
      "text/html": [
       "<div>\n",
       "<style scoped>\n",
       "    .dataframe tbody tr th:only-of-type {\n",
       "        vertical-align: middle;\n",
       "    }\n",
       "\n",
       "    .dataframe tbody tr th {\n",
       "        vertical-align: top;\n",
       "    }\n",
       "\n",
       "    .dataframe thead th {\n",
       "        text-align: right;\n",
       "    }\n",
       "</style>\n",
       "<table border=\"1\" class=\"dataframe\">\n",
       "  <thead>\n",
       "    <tr style=\"text-align: right;\">\n",
       "      <th></th>\n",
       "      <th>0</th>\n",
       "      <th>1</th>\n",
       "      <th>2</th>\n",
       "      <th>3</th>\n",
       "      <th>4</th>\n",
       "      <th>5</th>\n",
       "      <th>6</th>\n",
       "      <th>7</th>\n",
       "      <th>8</th>\n",
       "      <th>9</th>\n",
       "      <th>...</th>\n",
       "      <th>116</th>\n",
       "      <th>117</th>\n",
       "      <th>118</th>\n",
       "      <th>119</th>\n",
       "      <th>120</th>\n",
       "      <th>121</th>\n",
       "      <th>122</th>\n",
       "      <th>123</th>\n",
       "      <th>124</th>\n",
       "      <th>125</th>\n",
       "    </tr>\n",
       "  </thead>\n",
       "  <tbody>\n",
       "    <tr>\n",
       "      <th>0</th>\n",
       "      <td>Kmob</td>\n",
       "      <td>52.197071</td>\n",
       "      <td>52.147209</td>\n",
       "      <td>52.194275</td>\n",
       "      <td>52.271996</td>\n",
       "      <td>52.178337</td>\n",
       "      <td>52.214359</td>\n",
       "      <td>52.194958</td>\n",
       "      <td>52.233776</td>\n",
       "      <td>52.227543</td>\n",
       "      <td>...</td>\n",
       "      <td>52.226982</td>\n",
       "      <td>52.154968</td>\n",
       "      <td>52.229752</td>\n",
       "      <td>52.18264</td>\n",
       "      <td>52.224174</td>\n",
       "      <td>52.210316</td>\n",
       "      <td>52.196457</td>\n",
       "      <td>52.213085</td>\n",
       "      <td>52.199921</td>\n",
       "      <td>52.16116</td>\n",
       "    </tr>\n",
       "    <tr>\n",
       "      <th>1</th>\n",
       "      <td>AdcFreq</td>\n",
       "      <td>40.000000</td>\n",
       "      <td>40.000000</td>\n",
       "      <td>40.000000</td>\n",
       "      <td>40.000000</td>\n",
       "      <td>40.000000</td>\n",
       "      <td>40.000000</td>\n",
       "      <td>40.000000</td>\n",
       "      <td>40.000000</td>\n",
       "      <td>40.000000</td>\n",
       "      <td>...</td>\n",
       "      <td>40.000000</td>\n",
       "      <td>40.000000</td>\n",
       "      <td>40.000000</td>\n",
       "      <td>40.00000</td>\n",
       "      <td>40.000000</td>\n",
       "      <td>40.000000</td>\n",
       "      <td>40.000000</td>\n",
       "      <td>40.000000</td>\n",
       "      <td>40.000000</td>\n",
       "      <td>40.00000</td>\n",
       "    </tr>\n",
       "    <tr>\n",
       "      <th>2</th>\n",
       "      <td>SpeStart</td>\n",
       "      <td>800.000000</td>\n",
       "      <td>800.000000</td>\n",
       "      <td>800.000000</td>\n",
       "      <td>800.000000</td>\n",
       "      <td>800.000000</td>\n",
       "      <td>800.000000</td>\n",
       "      <td>800.000000</td>\n",
       "      <td>800.000000</td>\n",
       "      <td>800.000000</td>\n",
       "      <td>...</td>\n",
       "      <td>800.000000</td>\n",
       "      <td>800.000000</td>\n",
       "      <td>800.000000</td>\n",
       "      <td>800.00000</td>\n",
       "      <td>800.000000</td>\n",
       "      <td>800.000000</td>\n",
       "      <td>800.000000</td>\n",
       "      <td>800.000000</td>\n",
       "      <td>800.000000</td>\n",
       "      <td>800.00000</td>\n",
       "    </tr>\n",
       "    <tr>\n",
       "      <th>3</th>\n",
       "      <td>TimeOffset</td>\n",
       "      <td>83.240608</td>\n",
       "      <td>241.934547</td>\n",
       "      <td>404.983879</td>\n",
       "      <td>564.647392</td>\n",
       "      <td>722.846062</td>\n",
       "      <td>884.460724</td>\n",
       "      <td>1043.054543</td>\n",
       "      <td>1204.529205</td>\n",
       "      <td>1363.586533</td>\n",
       "      <td>...</td>\n",
       "      <td>18516.784330</td>\n",
       "      <td>18675.713610</td>\n",
       "      <td>18837.321910</td>\n",
       "      <td>18995.68663</td>\n",
       "      <td>19156.355960</td>\n",
       "      <td>19318.554330</td>\n",
       "      <td>19477.287670</td>\n",
       "      <td>19639.053730</td>\n",
       "      <td>19798.238400</td>\n",
       "      <td>19957.13525</td>\n",
       "    </tr>\n",
       "    <tr>\n",
       "      <th>4</th>\n",
       "      <td>0</td>\n",
       "      <td>82.000000</td>\n",
       "      <td>78.000000</td>\n",
       "      <td>70.000000</td>\n",
       "      <td>60.000000</td>\n",
       "      <td>57.000000</td>\n",
       "      <td>42.000000</td>\n",
       "      <td>36.000000</td>\n",
       "      <td>31.000000</td>\n",
       "      <td>19.000000</td>\n",
       "      <td>...</td>\n",
       "      <td>18.000000</td>\n",
       "      <td>6.000000</td>\n",
       "      <td>4.000000</td>\n",
       "      <td>0.00000</td>\n",
       "      <td>0.000000</td>\n",
       "      <td>-2.000000</td>\n",
       "      <td>0.000000</td>\n",
       "      <td>-2.000000</td>\n",
       "      <td>-2.000000</td>\n",
       "      <td>-4.00000</td>\n",
       "    </tr>\n",
       "    <tr>\n",
       "      <th>...</th>\n",
       "      <td>...</td>\n",
       "      <td>...</td>\n",
       "      <td>...</td>\n",
       "      <td>...</td>\n",
       "      <td>...</td>\n",
       "      <td>...</td>\n",
       "      <td>...</td>\n",
       "      <td>...</td>\n",
       "      <td>...</td>\n",
       "      <td>...</td>\n",
       "      <td>...</td>\n",
       "      <td>...</td>\n",
       "      <td>...</td>\n",
       "      <td>...</td>\n",
       "      <td>...</td>\n",
       "      <td>...</td>\n",
       "      <td>...</td>\n",
       "      <td>...</td>\n",
       "      <td>...</td>\n",
       "      <td>...</td>\n",
       "      <td>...</td>\n",
       "    </tr>\n",
       "    <tr>\n",
       "      <th>1999</th>\n",
       "      <td>1995</td>\n",
       "      <td>-117.000000</td>\n",
       "      <td>-112.000000</td>\n",
       "      <td>-101.000000</td>\n",
       "      <td>-99.000000</td>\n",
       "      <td>-94.000000</td>\n",
       "      <td>-85.000000</td>\n",
       "      <td>-84.000000</td>\n",
       "      <td>-80.000000</td>\n",
       "      <td>-78.000000</td>\n",
       "      <td>...</td>\n",
       "      <td>-57.000000</td>\n",
       "      <td>-55.000000</td>\n",
       "      <td>-54.000000</td>\n",
       "      <td>-58.00000</td>\n",
       "      <td>-66.000000</td>\n",
       "      <td>-85.000000</td>\n",
       "      <td>-89.000000</td>\n",
       "      <td>-82.000000</td>\n",
       "      <td>-84.000000</td>\n",
       "      <td>-92.00000</td>\n",
       "    </tr>\n",
       "    <tr>\n",
       "      <th>2000</th>\n",
       "      <td>1996</td>\n",
       "      <td>-98.000000</td>\n",
       "      <td>-99.000000</td>\n",
       "      <td>-90.000000</td>\n",
       "      <td>-86.000000</td>\n",
       "      <td>-79.000000</td>\n",
       "      <td>-72.000000</td>\n",
       "      <td>-74.000000</td>\n",
       "      <td>-74.000000</td>\n",
       "      <td>-71.000000</td>\n",
       "      <td>...</td>\n",
       "      <td>-51.000000</td>\n",
       "      <td>-48.000000</td>\n",
       "      <td>-46.000000</td>\n",
       "      <td>-48.00000</td>\n",
       "      <td>-58.000000</td>\n",
       "      <td>-75.000000</td>\n",
       "      <td>-80.000000</td>\n",
       "      <td>-78.000000</td>\n",
       "      <td>-80.000000</td>\n",
       "      <td>-86.00000</td>\n",
       "    </tr>\n",
       "    <tr>\n",
       "      <th>2001</th>\n",
       "      <td>1997</td>\n",
       "      <td>-91.000000</td>\n",
       "      <td>-91.000000</td>\n",
       "      <td>-83.000000</td>\n",
       "      <td>-79.000000</td>\n",
       "      <td>-76.000000</td>\n",
       "      <td>-72.000000</td>\n",
       "      <td>-74.000000</td>\n",
       "      <td>-74.000000</td>\n",
       "      <td>-76.000000</td>\n",
       "      <td>...</td>\n",
       "      <td>-57.000000</td>\n",
       "      <td>-55.000000</td>\n",
       "      <td>-56.000000</td>\n",
       "      <td>-58.00000</td>\n",
       "      <td>-66.000000</td>\n",
       "      <td>-77.000000</td>\n",
       "      <td>-82.000000</td>\n",
       "      <td>-84.000000</td>\n",
       "      <td>-86.000000</td>\n",
       "      <td>-90.00000</td>\n",
       "    </tr>\n",
       "    <tr>\n",
       "      <th>2002</th>\n",
       "      <td>1998</td>\n",
       "      <td>-100.000000</td>\n",
       "      <td>-95.000000</td>\n",
       "      <td>-88.000000</td>\n",
       "      <td>-86.000000</td>\n",
       "      <td>-81.000000</td>\n",
       "      <td>-78.000000</td>\n",
       "      <td>-78.000000</td>\n",
       "      <td>-76.000000</td>\n",
       "      <td>-78.000000</td>\n",
       "      <td>...</td>\n",
       "      <td>-55.000000</td>\n",
       "      <td>-55.000000</td>\n",
       "      <td>-56.000000</td>\n",
       "      <td>-56.00000</td>\n",
       "      <td>-70.000000</td>\n",
       "      <td>-79.000000</td>\n",
       "      <td>-84.000000</td>\n",
       "      <td>-88.000000</td>\n",
       "      <td>-90.000000</td>\n",
       "      <td>-92.00000</td>\n",
       "    </tr>\n",
       "    <tr>\n",
       "      <th>2003</th>\n",
       "      <td>1999</td>\n",
       "      <td>-89.000000</td>\n",
       "      <td>-80.000000</td>\n",
       "      <td>-75.000000</td>\n",
       "      <td>-75.000000</td>\n",
       "      <td>-72.000000</td>\n",
       "      <td>-72.000000</td>\n",
       "      <td>-72.000000</td>\n",
       "      <td>-72.000000</td>\n",
       "      <td>-78.000000</td>\n",
       "      <td>...</td>\n",
       "      <td>-47.000000</td>\n",
       "      <td>-50.000000</td>\n",
       "      <td>-52.000000</td>\n",
       "      <td>-50.00000</td>\n",
       "      <td>-60.000000</td>\n",
       "      <td>-64.000000</td>\n",
       "      <td>-72.000000</td>\n",
       "      <td>-78.000000</td>\n",
       "      <td>-82.000000</td>\n",
       "      <td>-80.00000</td>\n",
       "    </tr>\n",
       "  </tbody>\n",
       "</table>\n",
       "<p>2004 rows × 126 columns</p>\n",
       "</div>"
      ],
      "text/plain": [
       "             0           1           2           3           4           5    \\\n",
       "0           Kmob   52.197071   52.147209   52.194275   52.271996   52.178337   \n",
       "1        AdcFreq   40.000000   40.000000   40.000000   40.000000   40.000000   \n",
       "2       SpeStart  800.000000  800.000000  800.000000  800.000000  800.000000   \n",
       "3     TimeOffset   83.240608  241.934547  404.983879  564.647392  722.846062   \n",
       "4              0   82.000000   78.000000   70.000000   60.000000   57.000000   \n",
       "...          ...         ...         ...         ...         ...         ...   \n",
       "1999        1995 -117.000000 -112.000000 -101.000000  -99.000000  -94.000000   \n",
       "2000        1996  -98.000000  -99.000000  -90.000000  -86.000000  -79.000000   \n",
       "2001        1997  -91.000000  -91.000000  -83.000000  -79.000000  -76.000000   \n",
       "2002        1998 -100.000000  -95.000000  -88.000000  -86.000000  -81.000000   \n",
       "2003        1999  -89.000000  -80.000000  -75.000000  -75.000000  -72.000000   \n",
       "\n",
       "             6            7            8            9    ...           116  \\\n",
       "0      52.214359    52.194958    52.233776    52.227543  ...     52.226982   \n",
       "1      40.000000    40.000000    40.000000    40.000000  ...     40.000000   \n",
       "2     800.000000   800.000000   800.000000   800.000000  ...    800.000000   \n",
       "3     884.460724  1043.054543  1204.529205  1363.586533  ...  18516.784330   \n",
       "4      42.000000    36.000000    31.000000    19.000000  ...     18.000000   \n",
       "...          ...          ...          ...          ...  ...           ...   \n",
       "1999  -85.000000   -84.000000   -80.000000   -78.000000  ...    -57.000000   \n",
       "2000  -72.000000   -74.000000   -74.000000   -71.000000  ...    -51.000000   \n",
       "2001  -72.000000   -74.000000   -74.000000   -76.000000  ...    -57.000000   \n",
       "2002  -78.000000   -78.000000   -76.000000   -78.000000  ...    -55.000000   \n",
       "2003  -72.000000   -72.000000   -72.000000   -78.000000  ...    -47.000000   \n",
       "\n",
       "               117           118          119           120           121  \\\n",
       "0        52.154968     52.229752     52.18264     52.224174     52.210316   \n",
       "1        40.000000     40.000000     40.00000     40.000000     40.000000   \n",
       "2       800.000000    800.000000    800.00000    800.000000    800.000000   \n",
       "3     18675.713610  18837.321910  18995.68663  19156.355960  19318.554330   \n",
       "4         6.000000      4.000000      0.00000      0.000000     -2.000000   \n",
       "...            ...           ...          ...           ...           ...   \n",
       "1999    -55.000000    -54.000000    -58.00000    -66.000000    -85.000000   \n",
       "2000    -48.000000    -46.000000    -48.00000    -58.000000    -75.000000   \n",
       "2001    -55.000000    -56.000000    -58.00000    -66.000000    -77.000000   \n",
       "2002    -55.000000    -56.000000    -56.00000    -70.000000    -79.000000   \n",
       "2003    -50.000000    -52.000000    -50.00000    -60.000000    -64.000000   \n",
       "\n",
       "               122           123           124          125  \n",
       "0        52.196457     52.213085     52.199921     52.16116  \n",
       "1        40.000000     40.000000     40.000000     40.00000  \n",
       "2       800.000000    800.000000    800.000000    800.00000  \n",
       "3     19477.287670  19639.053730  19798.238400  19957.13525  \n",
       "4         0.000000     -2.000000     -2.000000     -4.00000  \n",
       "...            ...           ...           ...          ...  \n",
       "1999    -89.000000    -82.000000    -84.000000    -92.00000  \n",
       "2000    -80.000000    -78.000000    -80.000000    -86.00000  \n",
       "2001    -82.000000    -84.000000    -86.000000    -90.00000  \n",
       "2002    -84.000000    -88.000000    -90.000000    -92.00000  \n",
       "2003    -72.000000    -78.000000    -82.000000    -80.00000  \n",
       "\n",
       "[2004 rows x 126 columns]"
      ]
     },
     "execution_count": 2,
     "metadata": {},
     "output_type": "execute_result"
    }
   ],
   "source": [
    "df_P = pd.read_excel(\"P.xlsx\", header=None)\n",
    "df_P"
   ]
  },
  {
   "cell_type": "code",
   "execution_count": 3,
   "id": "53b6c284",
   "metadata": {},
   "outputs": [
    {
     "name": "stdout",
     "output_type": "stream",
     "text": [
      "X:(125,)\n",
      "Y:(2000,)\n",
      "Z(2000, 125)\n",
      "        1      2      3      4      5     6     7     8     9     10   ...  \\\n",
      "0      82.0   78.0   70.0   60.0   57.0  42.0  36.0  31.0  19.0  19.0  ...   \n",
      "1     115.0  110.0  105.0   92.0   87.0  70.0  59.0  50.0  35.0  34.0  ...   \n",
      "2     137.0  127.0  122.0  107.0  102.0  83.0  72.0  63.0  46.0  36.0  ...   \n",
      "3     146.0  132.0  129.0  112.0  111.0  93.0  80.0  67.0  50.0  40.0  ...   \n",
      "4     137.0  125.0  122.0  103.0  102.0  87.0  74.0  61.0  44.0  34.0  ...   \n",
      "...     ...    ...    ...    ...    ...   ...   ...   ...   ...   ...  ...   \n",
      "1995 -117.0 -112.0 -101.0  -99.0  -94.0 -85.0 -84.0 -80.0 -78.0 -70.0  ...   \n",
      "1996  -98.0  -99.0  -90.0  -86.0  -79.0 -72.0 -74.0 -74.0 -71.0 -61.0  ...   \n",
      "1997  -91.0  -91.0  -83.0  -79.0  -76.0 -72.0 -74.0 -74.0 -76.0 -65.0  ...   \n",
      "1998 -100.0  -95.0  -88.0  -86.0  -81.0 -78.0 -78.0 -76.0 -78.0 -70.0  ...   \n",
      "1999  -89.0  -80.0  -75.0  -75.0  -72.0 -72.0 -72.0 -72.0 -78.0 -72.0  ...   \n",
      "\n",
      "       116   117   118   119   120   121   122   123   124   125  \n",
      "0     18.0   6.0   4.0   0.0   0.0  -2.0   0.0  -2.0  -2.0  -4.0  \n",
      "1     14.0   2.0   0.0   0.0   0.0  -2.0  -2.0  -4.0  -6.0  -6.0  \n",
      "2     12.0   0.0   0.0   0.0   0.0   2.0   0.0  -2.0  -2.0   0.0  \n",
      "3     10.0   0.0   0.0   0.0   0.0   4.0  -4.0  -4.0  -2.0   0.0  \n",
      "4     12.0   0.0   0.0   6.0   0.0   6.0   0.0  -4.0   0.0   4.0  \n",
      "...    ...   ...   ...   ...   ...   ...   ...   ...   ...   ...  \n",
      "1995 -57.0 -55.0 -54.0 -58.0 -66.0 -85.0 -89.0 -82.0 -84.0 -92.0  \n",
      "1996 -51.0 -48.0 -46.0 -48.0 -58.0 -75.0 -80.0 -78.0 -80.0 -86.0  \n",
      "1997 -57.0 -55.0 -56.0 -58.0 -66.0 -77.0 -82.0 -84.0 -86.0 -90.0  \n",
      "1998 -55.0 -55.0 -56.0 -56.0 -70.0 -79.0 -84.0 -88.0 -90.0 -92.0  \n",
      "1999 -47.0 -50.0 -52.0 -50.0 -60.0 -64.0 -72.0 -78.0 -82.0 -80.0  \n",
      "\n",
      "[2000 rows x 125 columns]\n"
     ]
    }
   ],
   "source": [
    "X_P = df_P.iloc[3, 1:]\n",
    "Y_P = df_P.iloc[4:, 0]\n",
    "Z_P = df_P.iloc[4:, 1:]\n",
    "print(f\"X:{X_P.shape}\\nY:{Y_P.shape}\\nZ{Z_P.shape}\")\n",
    "print(Z_P.reset_index(drop=True))"
   ]
  },
  {
   "cell_type": "code",
   "execution_count": 4,
   "id": "574edbbc",
   "metadata": {},
   "outputs": [
    {
     "data": {
      "text/plain": [
       "<AxesSubplot:>"
      ]
     },
     "execution_count": 4,
     "metadata": {},
     "output_type": "execute_result"
    },
    {
     "data": {
      "image/png": "[encoded data removed]",
      "text/plain": [
       "<Figure size 432x288 with 2 Axes>"
      ]
     },
     "metadata": {
      "needs_background": "light"
     },
     "output_type": "display_data"
    }
   ],
   "source": [
    "sns.heatmap(Z_P.transpose(), cmap=\"hot\")"
   ]
  },
  {
   "cell_type": "code",
   "execution_count": 5,
   "id": "e2a04fad",
   "metadata": {},
   "outputs": [
    {
     "data": {
      "image/png": "[encoded data removed]",
      "text/plain": [
       "<Figure size 432x288 with 1 Axes>"
      ]
     },
     "metadata": {
      "needs_background": "light"
     },
     "output_type": "display_data"
    }
   ],
   "source": [
    "from celluloid import Camera\n",
    "fig = plt.figure()\n",
    "camera = Camera(fig)\n",
    "for i in range(125):\n",
    "    plt.plot(Z_P.iloc[:,i], color = \"black\")\n",
    "    camera.snap()\n",
    "\n",
    "animation = camera.animate()\n",
    "animation.save('P.gif', writer='pillow')"
   ]
  },
  {
   "cell_type": "code",
   "execution_count": 6,
   "id": "1900a4c0",
   "metadata": {},
   "outputs": [],
   "source": [
    "from scipy.linalg import cholesky\n",
    "from scipy import sparse\n",
    "from scipy.sparse.linalg import spsolve\n",
    "def baseline_arPLS(y, lam=1e4, ratio=0.05, itermax=100):\n",
    "    N = len(y)\n",
    "    D = sparse.eye(N, format='csc')\n",
    "    D = D[1:] - D[:-1]  # numpy.diff( ,2) does not work with sparse matrix. This is a workaround.\n",
    "    D = D[1:] - D[:-1]\n",
    "    H = lam * D.T * D\n",
    "    w = np.ones(N)\n",
    "    for i in range(itermax):\n",
    "        W = sparse.diags(w, 0, shape=(N, N))\n",
    "        WH = sparse.csc_matrix(W + H)\n",
    "        C = sparse.csc_matrix(cholesky(WH.todense()))\n",
    "        z = spsolve(C, spsolve(C.T, w * y))\n",
    "        d = y - z\n",
    "        dn = d[d < 0]\n",
    "        m = np.mean(dn)\n",
    "        s = np.std(dn)\n",
    "        wt = 1. / (1 + np.exp(2 * (d - (2 * s - m)) / s))\n",
    "        if np.linalg.norm(w - wt) / np.linalg.norm(w) < ratio:\n",
    "            break\n",
    "        w = wt\n",
    "    return z"
   ]
  },
  {
   "cell_type": "code",
   "execution_count": 7,
   "id": "9c2a9ccb",
   "metadata": {
    "scrolled": true
   },
   "outputs": [
    {
     "name": "stdout",
     "output_type": "stream",
     "text": [
      "[  0.   4.   6. ... -86. -76. -66.]\n"
     ]
    },
    {
     "data": {
      "image/png": "[encoded data removed]",
      "text/plain": [
       "<Figure size 432x288 with 1 Axes>"
      ]
     },
     "metadata": {
      "needs_background": "light"
     },
     "output_type": "display_data"
    }
   ],
   "source": [
    "import warnings\n",
    "warnings.filterwarnings('ignore')\n",
    "\n",
    "plt.plot(Z_P.iloc[:, 70])\n",
    "print(Z_P.iloc[:, 100].to_numpy())\n",
    "baseline_Zi = baseline_arPLS(Z_P.iloc[:, 70].to_numpy(), 10**4, 0.01)\n",
    "plt.plot([i for i in range(0, 2000)], baseline_Zi)\n",
    "camera.snap()\n",
    "\n",
    "plt.show()"
   ]
  },
  {
   "cell_type": "code",
   "execution_count": 8,
   "id": "f94b9e45",
   "metadata": {},
   "outputs": [
    {
     "data": {
      "image/png": "[encoded data removed]",
      "text/plain": [
       "<Figure size 432x288 with 1 Axes>"
      ]
     },
     "metadata": {
      "needs_background": "light"
     },
     "output_type": "display_data"
    }
   ],
   "source": [
    "plt.plot([i for i in range(0, 2000)], Z_P.iloc[:, 70] - baseline_Zi)\n",
    "plt.show()"
   ]
  },
  {
   "cell_type": "code",
   "execution_count": 9,
   "id": "48b130e0",
   "metadata": {
    "scrolled": true
   },
   "outputs": [
    {
     "name": "stdout",
     "output_type": "stream",
     "text": [
      "0 1 2 3 4 5 6 7 8 9 10 11 12 13 14 15 16 17 18 19 20 21 22 23 24 25 26 27 28 29 30 31 32 33 34 35 36 37 38 39 40 41 42 43 44 45 46 47 48 49 50 51 52 53 54 55 56 57 58 59 60 61 62 63 64 65 66 67 68 69 70 71 72 73 74 75 76 77 78 79 80 81 82 83 84 85 86 87 88 89 90 91 92 93 94 95 96 97 98 99 100 101 102 103 104 105 106 107 108 109 110 111 112 113 114 115 116 117 118 119 120 121 122 123 124 "
     ]
    },
    {
     "data": {
      "image/png": "[encoded data removed]",
      "text/plain": [
       "<Figure size 432x288 with 1 Axes>"
      ]
     },
     "metadata": {
      "needs_background": "light"
     },
     "output_type": "display_data"
    }
   ],
   "source": [
    "fig = plt.figure()\n",
    "camera = Camera(fig)\n",
    "arPLS_dz = []\n",
    "for i in range(125):\n",
    "    new_line = Z_P.iloc[:,i] - baseline_arPLS(Z_P.iloc[:, i].to_numpy(), 10**4, 0.01)\n",
    "    arPLS_dz.append(new_line.to_numpy())\n",
    "    plt.plot(new_line, color = \"black\")\n",
    "    print(i, end=\" \")\n",
    "    camera.snap()\n",
    "\n",
    "animation = camera.animate()\n",
    "animation.save('P_arPLS.gif', writer = 'pillow')"
   ]
  },
  {
   "cell_type": "code",
   "execution_count": 10,
   "id": "024d2c26",
   "metadata": {},
   "outputs": [
    {
     "data": {
      "text/plain": [
       "<AxesSubplot:>"
      ]
     },
     "execution_count": 10,
     "metadata": {},
     "output_type": "execute_result"
    },
    {
     "data": {
      "image/png": "[encoded data removed]",
      "text/plain": [
       "<Figure size 432x288 with 2 Axes>"
      ]
     },
     "metadata": {
      "needs_background": "light"
     },
     "output_type": "display_data"
    }
   ],
   "source": [
    "arPLS_Z = pd.DataFrame(arPLS_dz)\n",
    "sns.heatmap(arPLS_Z, cmap=\"hot\")"
   ]
  },
  {
   "cell_type": "code",
   "execution_count": null,
   "id": "6efc532f",
   "metadata": {},
   "outputs": [],
   "source": []
  }
 ],
 "metadata": {
  "kernelspec": {
   "display_name": "Python 3 (ipykernel)",
   "language": "python",
   "name": "python3"
  },
  "language_info": {
   "codemirror_mode": {
    "name": "ipython",
    "version": 3
   },
   "file_extension": ".py",
   "mimetype": "text/x-python",
   "name": "python",
   "nbconvert_exporter": "python",
   "pygments_lexer": "ipython3",
   "version": "3.9.12"
  }
 },
 "nbformat": 4,
 "nbformat_minor": 5
}
