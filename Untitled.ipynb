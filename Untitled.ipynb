{
 "cells": [
  {
   "cell_type": "markdown",
   "id": "3dab2dbf",
   "metadata": {},
   "source": [
    "## Определение пиков"
   ]
  },
  {
   "cell_type": "code",
   "execution_count": 55,
   "id": "b1b8356e",
   "metadata": {
    "scrolled": true
   },
   "outputs": [],
   "source": [
    "import pandas as pd\n",
    "import scipy as sp\n",
    "from scipy.signal import find_peaks\n",
    "from scipy.signal import peak_prominences\n",
    "import numpy as np\n",
    "from celluloid import Camera\n",
    "import matplotlib.pyplot as plt\n",
    "import seaborn as sns\n",
    "import plotly.graph_objects as go"
   ]
  },
  {
   "cell_type": "code",
   "execution_count": 78,
   "id": "cd6dc693",
   "metadata": {
    "scrolled": false
   },
   "outputs": [
    {
     "data": {
      "text/plain": [
       "(2000, 166)"
      ]
     },
     "execution_count": 78,
     "metadata": {},
     "output_type": "execute_result"
    }
   ],
   "source": [
    "data = pd.read_csv('results/Z.csv').to_numpy()\n",
    "data.shape"
   ]
  },
  {
   "cell_type": "code",
   "execution_count": 79,
   "id": "fb335e85",
   "metadata": {},
   "outputs": [
    {
     "data": {
      "image/png": "[encoded data removed]",
      "text/plain": [
       "<Figure size 432x288 with 1 Axes>"
      ]
     },
     "metadata": {
      "needs_background": "light"
     },
     "output_type": "display_data"
    }
   ],
   "source": [
    "fig, ax = plt.subplots()\n",
    "cam = Camera(fig)\n",
    "all_peaks = []\n",
    "# all_contour_heights = []\n",
    "for i in range(1, 150):\n",
    "    current_line = data[1:, i]\n",
    "    peaks, properties = find_peaks(current_line)\n",
    "    peak_prominence = peak_prominences(current_line, peaks)[0]\n",
    "#     contour_heights = current_line[peaks] - peak_prominence\n",
    "    peaks = peaks[peak_prominence > 70]\n",
    "    all_peaks.append(peaks)\n",
    "#     all_contour_heights.append(contour_heights)\n",
    "    plt.plot(current_line, color = \"black\")\n",
    "    plt.plot(peaks, current_line[peaks], \"x\", color = \"red\")\n",
    "    cam.snap()\n",
    "\n",
    "animation = cam.animate()\n",
    "animation.save('results/anim_data_peaks.gif', writer='pillow')"
   ]
  },
  {
   "cell_type": "code",
   "execution_count": 5,
   "id": "ffa61979",
   "metadata": {
    "scrolled": true
   },
   "outputs": [
    {
     "ename": "NameError",
     "evalue": "name 'all_contour_heights' is not defined",
     "output_type": "error",
     "traceback": [
      "\u001B[1;31m---------------------------------------------------------------------------\u001B[0m",
      "\u001B[1;31mNameError\u001B[0m                                 Traceback (most recent call last)",
      "Input \u001B[1;32mIn [5]\u001B[0m, in \u001B[0;36m<cell line: 7>\u001B[1;34m()\u001B[0m\n\u001B[0;32m      5\u001B[0m peaks \u001B[38;5;241m=\u001B[39m peaks[peak_prominence \u001B[38;5;241m>\u001B[39m \u001B[38;5;241m70\u001B[39m]\n\u001B[0;32m      6\u001B[0m all_peaks\u001B[38;5;241m.\u001B[39mappend(peaks)\n\u001B[1;32m----> 7\u001B[0m \u001B[43mall_contour_heights\u001B[49m\u001B[38;5;241m.\u001B[39mappend(contour_heights)\n\u001B[0;32m      8\u001B[0m plt\u001B[38;5;241m.\u001B[39mplot(current_line, color \u001B[38;5;241m=\u001B[39m \u001B[38;5;124m\"\u001B[39m\u001B[38;5;124mblack\u001B[39m\u001B[38;5;124m\"\u001B[39m)\n\u001B[0;32m      9\u001B[0m plt\u001B[38;5;241m.\u001B[39mplot(peaks, current_line[peaks], \u001B[38;5;124m\"\u001B[39m\u001B[38;5;124mx\u001B[39m\u001B[38;5;124m\"\u001B[39m, color \u001B[38;5;241m=\u001B[39m \u001B[38;5;124m\"\u001B[39m\u001B[38;5;124mred\u001B[39m\u001B[38;5;124m\"\u001B[39m)\n",
      "\u001B[1;31mNameError\u001B[0m: name 'all_contour_heights' is not defined"
     ]
    }
   ],
   "source": [
    "current_line = data[1:, 11]\n",
    "peaks, properties = find_peaks(current_line)\n",
    "peak_prominence = peak_prominences(current_line, peaks)[0]\n",
    "contour_heights = current_line[peaks] - peak_prominence\n",
    "peaks = peaks[peak_prominence > 70]\n",
    "all_peaks.append(peaks)\n",
    "all_contour_heights.append(contour_heights)\n",
    "plt.plot(current_line, color = \"black\")\n",
    "plt.plot(peaks, current_line[peaks], \"x\", color = \"red\")\n",
    "print(len(peak_prominence[peak_prominence>70]))"
   ]
  },
  {
   "cell_type": "markdown",
   "id": "439affe8",
   "metadata": {},
   "source": [
    "## Анализ высоты пиков для определения порогового значения высоты"
   ]
  },
  {
   "cell_type": "code",
   "execution_count": 17,
   "id": "0d77ad17",
   "metadata": {
    "scrolled": true
   },
   "outputs": [
    {
     "ename": "NameError",
     "evalue": "name 'all_contour_heights' is not defined",
     "output_type": "error",
     "traceback": [
      "\u001B[1;31m---------------------------------------------------------------------------\u001B[0m",
      "\u001B[1;31mNameError\u001B[0m                                 Traceback (most recent call last)",
      "Input \u001B[1;32mIn [17]\u001B[0m, in \u001B[0;36m<cell line: 1>\u001B[1;34m()\u001B[0m\n\u001B[1;32m----> 1\u001B[0m all_contour_heights \u001B[38;5;241m=\u001B[39m pd\u001B[38;5;241m.\u001B[39mDataFrame(\u001B[43mall_contour_heights\u001B[49m) \n\u001B[0;32m      2\u001B[0m all_contour_heights \u001B[38;5;241m=\u001B[39m all_contour_heights[all_contour_heights\u001B[38;5;241m>\u001B[39m\u001B[38;5;241m=\u001B[39m\u001B[38;5;241m70\u001B[39m]\u001B[38;5;241m.\u001B[39mfillna(\u001B[38;5;241m0\u001B[39m)\n\u001B[0;32m      3\u001B[0m all_contour_heights\u001B[38;5;241m.\u001B[39mto_csv(\u001B[38;5;124m'\u001B[39m\u001B[38;5;124mresults/123.csv\u001B[39m\u001B[38;5;124m'\u001B[39m)\n",
      "\u001B[1;31mNameError\u001B[0m: name 'all_contour_heights' is not defined"
     ]
    }
   ],
   "source": [
    "all_contour_heights = pd.DataFrame(all_contour_heights) \n",
    "all_contour_heights = all_contour_heights[all_contour_heights>=70].fillna(0)\n",
    "all_contour_heights.to_csv('results/123.csv')"
   ]
  },
  {
   "cell_type": "code",
   "execution_count": 9,
   "id": "02c60af4",
   "metadata": {},
   "outputs": [
    {
     "data": {
      "image/png": "[encoded data removed]",
      "text/plain": [
       "<Figure size 432x288 with 1 Axes>"
      ]
     },
     "metadata": {
      "needs_background": "light"
     },
     "output_type": "display_data"
    }
   ],
   "source": [
    "fig, ax = plt.subplots()\n",
    "cam = Camera(fig)\n",
    "for i in range(150):\n",
    "    plt.plot(all_contour_heights.iloc[i, :], color = \"black\")\n",
    "    cam.snap()\n",
    "\n",
    "animation = cam.animate()\n",
    "animation.save('results/anim_contour_heights.gif', writer='pillow')"
   ]
  },
  {
   "cell_type": "code",
   "execution_count": 12,
   "id": "bd0c12a3",
   "metadata": {
    "scrolled": true
   },
   "outputs": [
    {
     "data": {
      "text/plain": [
       "[<matplotlib.lines.Line2D at 0x1ad337d62b0>]"
      ]
     },
     "execution_count": 12,
     "metadata": {},
     "output_type": "execute_result"
    },
    {
     "data": {
      "image/png": "[encoded data removed]",
      "text/plain": [
       "<Figure size 432x288 with 1 Axes>"
      ]
     },
     "metadata": {
      "needs_background": "light"
     },
     "output_type": "display_data"
    }
   ],
   "source": [
    "prominences = np.sort(all_contour_heights.to_numpy().reshape(1, -1))[0]\n",
    "fig, ax = plt.subplots()\n",
    "plt.plot(prominences[:4000])"
   ]
  },
  {
   "cell_type": "markdown",
   "id": "4c9c2a7c",
   "metadata": {},
   "source": [
    "## Расчет площади пика"
   ]
  },
  {
   "cell_type": "code",
   "execution_count": 80,
   "id": "715e00f7",
   "metadata": {},
   "outputs": [],
   "source": [
    "def peak_square(h, x):\n",
    "    if h <= 0:\n",
    "        return 0\n",
    "    sigma = 1 / (h * (2 * np.pi) ** 0.5)\n",
    "    x1 = h + ( -1 * 2 * sigma ** 2 * np.log(0.5))**2\n",
    "    width = abs(x1 - x) * 2\n",
    "    square = 0.5 * h * width\n",
    "    return square"
   ]
  },
  {
   "cell_type": "code",
   "execution_count": 89,
   "id": "619b5626",
   "metadata": {},
   "outputs": [],
   "source": [
    "total_square = 0\n",
    "all_peaks_squares = []\n",
    "for i in range(1, 150):\n",
    "    current_line = data[1:, i]\n",
    "    peak_squares = []\n",
    "    for peak in all_peaks[i - 1]:\n",
    "        peak_sq = peak_square(current_line[peak], peak)\n",
    "        total_square += peak_sq\n",
    "        peak_squares.append(peak_sq)\n",
    "    all_peaks_squares.append(peak_squares)"
   ]
  },
  {
   "cell_type": "code",
   "execution_count": 90,
   "id": "a23c30c2",
   "metadata": {
    "scrolled": true
   },
   "outputs": [
    {
     "name": "stdout",
     "output_type": "stream",
     "text": [
      "13062527961.524796\n"
     ]
    }
   ],
   "source": [
    "print(total_square)"
   ]
  },
  {
   "cell_type": "code",
   "execution_count": 98,
   "id": "07f26f49",
   "metadata": {
    "scrolled": true
   },
   "outputs": [
    {
     "name": "stdout",
     "output_type": "stream",
     "text": [
      "22.35215439493582\n",
      "33.997278235418825\n",
      "41.746117576495514\n",
      "0.895482620992824\n",
      "0.9832328024507916\n",
      "0.02438947351173912\n",
      "0.001344896194480885\n"
     ]
    }
   ],
   "source": [
    "for i in all_peaks_squares[80]:\n",
    "    print((i * 100) / sum(all_peaks_squares[80]))"
   ]
  },
  {
   "cell_type": "code",
   "execution_count": 100,
   "id": "829f2267",
   "metadata": {
    "scrolled": false
   },
   "outputs": [
    {
     "data": {
      "image/png": "[encoded data removed]",
      "text/plain": [
       "<Figure size 432x288 with 1 Axes>"
      ]
     },
     "metadata": {
      "needs_background": "light"
     },
     "output_type": "display_data"
    }
   ],
   "source": [
    "current_line = data[1:, 80]\n",
    "peaks = all_peaks[80]\n",
    "plt.plot(current_line, color = \"black\")\n",
    "plt.plot(peaks, current_line[peaks], \"x\", color = \"red\")\n",
    "plt.xlabel('Компенсационное напряжение, см2/(В·c)')\n",
    "plt.ylabel('Ионный ток, ЕМЗР')\n",
    "\n",
    "fig.savefig('results/80_frame_with_peaks.png')"
   ]
  },
  {
   "cell_type": "code",
   "execution_count": 85,
   "id": "5d843025",
   "metadata": {},
   "outputs": [
    {
     "name": "stdout",
     "output_type": "stream",
     "text": [
      "[4.463e+03 4.592e+03 5.933e+03 1.095e+03 1.161e+03 5.270e+02 5.000e+00]\n"
     ]
    }
   ],
   "source": []
  },
  {
   "cell_type": "code",
   "execution_count": null,
   "id": "c3246c52",
   "metadata": {},
   "outputs": [],
   "source": []
  }
 ],
 "metadata": {
  "kernelspec": {
   "display_name": "Python 3 (ipykernel)",
   "language": "python",
   "name": "python3"
  },
  "language_info": {
   "codemirror_mode": {
    "name": "ipython",
    "version": 3
   },
   "file_extension": ".py",
   "mimetype": "text/x-python",
   "name": "python",
   "nbconvert_exporter": "python",
   "pygments_lexer": "ipython3",
   "version": "3.9.12"
  }
 },
 "nbformat": 4,
 "nbformat_minor": 5
}
