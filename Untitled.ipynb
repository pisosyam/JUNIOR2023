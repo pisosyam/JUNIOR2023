{
 "cells": [
  {
   "cell_type": "code",
   "execution_count": 15,
   "id": "b1b8356e",
   "metadata": {
    "scrolled": true
   },
   "outputs": [],
   "source": [
    "import pandas as pd\n",
    "import scipy as sp\n",
    "from scipy.signal import find_peaks\n",
    "import numpy as np\n",
    "from celluloid import Camera\n",
    "import matplotlib.pyplot as plt"
   ]
  },
  {
   "cell_type": "code",
   "execution_count": 11,
   "id": "cd6dc693",
   "metadata": {},
   "outputs": [
    {
     "data": {
      "text/plain": [
       "(2000, 151)"
      ]
     },
     "execution_count": 11,
     "metadata": {},
     "output_type": "execute_result"
    }
   ],
   "source": [
    "data = pd.read_csv('results/Z.csv')\n",
    "data.shape"
   ]
  },
  {
   "cell_type": "code",
   "execution_count": 22,
   "id": "4c4b9121",
   "metadata": {},
   "outputs": [
    {
     "data": {
      "image/png": "[encoded data removed]",
      "text/plain": [
       "<Figure size 432x288 with 1 Axes>"
      ]
     },
     "metadata": {
      "needs_background": "light"
     },
     "output_type": "display_data"
    }
   ],
   "source": [
    "fig, ax = plt.subplots()\n",
    "cam = Camera(fig)\n",
    "for i in range(1, 151):\n",
    "    current_line = data.iloc[:, i]\n",
    "    peaks, properties = find_peaks(current_line.to_numpy(), distance=50)\n",
    "    plt.plot(peaks, current_line[peaks], \"x\")\n",
    "    plt.plot(current_line)\n",
    "    cam.snap()\n",
    "\n",
    "animation = cam.animate()\n",
    "animation.save('results/anim_data_peaks.gif', writer='pillow')"
   ]
  },
  {
   "cell_type": "code",
   "execution_count": null,
   "id": "02c60af4",
   "metadata": {},
   "outputs": [],
   "source": []
  }
 ],
 "metadata": {
  "kernelspec": {
   "display_name": "Python 3 (ipykernel)",
   "language": "python",
   "name": "python3"
  },
  "language_info": {
   "codemirror_mode": {
    "name": "ipython",
    "version": 3
   },
   "file_extension": ".py",
   "mimetype": "text/x-python",
   "name": "python",
   "nbconvert_exporter": "python",
   "pygments_lexer": "ipython3",
   "version": "3.9.12"
  }
 },
 "nbformat": 4,
 "nbformat_minor": 5
}
